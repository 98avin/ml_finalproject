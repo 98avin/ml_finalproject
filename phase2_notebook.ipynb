{
 "cells": [
  {
   "cell_type": "markdown",
   "metadata": {},
   "source": [
    "## Phase 2: Jupyter Notebook"
   ]
  },
  {
   "cell_type": "markdown",
   "metadata": {},
   "source": [
    "#### Imports"
   ]
  },
  {
   "cell_type": "code",
   "execution_count": 19,
   "metadata": {},
   "outputs": [
    {
     "name": "stderr",
     "output_type": "stream",
     "text": [
      "[nltk_data] Downloading package words to /home/aja193/nltk_data...\n",
      "[nltk_data]   Package words is already up-to-date!\n",
      "[nltk_data] Downloading package punkt to /home/aja193/nltk_data...\n",
      "[nltk_data]   Package punkt is already up-to-date!\n",
      "[nltk_data] Downloading package stopwords to /home/aja193/nltk_data...\n",
      "[nltk_data]   Package stopwords is already up-to-date!\n"
     ]
    }
   ],
   "source": [
    "import nltk\n",
    "import string\n",
    "import collections\n",
    "nltk.download('words')\n",
    "nltk.download('punkt')\n",
    "nltk.download('stopwords')\n",
    "import numpy as np\n",
    "import pandas as pd\n",
    "from sklearn import preprocessing as sklpp\n",
    "from sklearn import decomposition as skldecomp\n",
    "from sklearn.cluster import KMeans\n",
    "from sklearn.cluster import DBSCAN\n",
    "from sklearn.feature_extraction.text import TfidfVectorizer"
   ]
  },
  {
   "cell_type": "markdown",
   "metadata": {},
   "source": [
    "### 2.1: Pre-processing of each dataset (collective)"
   ]
  },
  {
   "cell_type": "markdown",
   "metadata": {},
   "source": [
    "#### Imaging Dataset (classification)"
   ]
  },
  {
   "cell_type": "code",
   "execution_count": null,
   "metadata": {},
   "outputs": [],
   "source": []
  },
  {
   "cell_type": "markdown",
   "metadata": {},
   "source": [
    "#### Time-Series Dataset (classification)"
   ]
  },
  {
   "cell_type": "code",
   "execution_count": null,
   "metadata": {},
   "outputs": [],
   "source": []
  },
  {
   "cell_type": "markdown",
   "metadata": {},
   "source": [
    "#### Text Dataset (clustering)"
   ]
  },
  {
   "cell_type": "code",
   "execution_count": 20,
   "metadata": {},
   "outputs": [],
   "source": [
    "text_df = pd.read_csv(\"~/ml_finalproject/text_data/cleansed_listings_dec18.csv\", low_memory=False)[['id','description']]\n",
    "text_df = text_df[pd.notnull(text_df['description'])].reset_index()"
   ]
  },
  {
   "cell_type": "markdown",
   "metadata": {},
   "source": [
    "### 2.2: Feature extraction/learning from each dataset (collective)"
   ]
  },
  {
   "cell_type": "markdown",
   "metadata": {},
   "source": [
    "#### Imaging Dataset (classification)"
   ]
  },
  {
   "cell_type": "code",
   "execution_count": null,
   "metadata": {},
   "outputs": [],
   "source": []
  },
  {
   "cell_type": "markdown",
   "metadata": {},
   "source": [
    "#### Time-Series Dataset (classification)"
   ]
  },
  {
   "cell_type": "code",
   "execution_count": null,
   "metadata": {},
   "outputs": [],
   "source": []
  },
  {
   "cell_type": "markdown",
   "metadata": {},
   "source": [
    "#### Text Dataset (clustering)"
   ]
  },
  {
   "cell_type": "code",
   "execution_count": 21,
   "metadata": {},
   "outputs": [],
   "source": [
    "def clean_text(paragraph):\n",
    "    translator = str.maketrans('', '', string.punctuation + '1234567890’')\n",
    "    paragraph = paragraph.translate(translator)\n",
    "    cleaned = nltk.word_tokenize(paragraph)\n",
    "    cleaned = [nltk.stem.PorterStemmer().stem(t) for t in cleaned]\n",
    "    return cleaned\n",
    "\n",
    "def clean_text_stop(paragraph):\n",
    "    translator = str.maketrans('', '', string.punctuation + '1234567890’')\n",
    "    paragraph = paragraph.translate(translator)\n",
    "    cleaned = nltk.word_tokenize(paragraph)\n",
    "    cleaned = [nltk.stem.PorterStemmer().stem(t) for t in cleaned]\n",
    "    return cleaned[0]\n",
    "\n",
    "normalized_stop_words = list(map(clean_text_stop,nltk.corpus.stopwords.words(\"english\")))\n",
    "more_stop_words=['min','minut','st','room','bed','well','use','also','take','provid','live','area',\n",
    "                'like','love','get','offer','perfect','feel','need','within','includ','everyth','best',\n",
    "                'build','fulli','facil','enjoy','around','becau','front','avail','great','time',\n",
    "                'one','two','set','make','doubl','featur','equip','home','bathroom','citi',\n",
    "                'guest','stay','free','access','place','travel','coupl','good','street']\n",
    "\n",
    "for word in more_stop_words:\n",
    "    normalized_stop_words.append(word);\n",
    "\n",
    "vectorizer = TfidfVectorizer(tokenizer=clean_text,\n",
    "                                 stop_words=normalized_stop_words,\n",
    "                                 max_df=0.5,\n",
    "                                 min_df=0.1)\n",
    " \n",
    "tfidf_model = vectorizer.fit_transform(text_df['description'])"
   ]
  },
  {
   "cell_type": "code",
   "execution_count": 5,
   "metadata": {},
   "outputs": [
    {
     "data": {
      "text/plain": [
       "{'clean': 14,\n",
       " 'new': 45,\n",
       " 'modern': 44,\n",
       " 'bu': 7,\n",
       " 'stop': 70,\n",
       " 'shop': 63,\n",
       " 'distanc': 21,\n",
       " 'queen': 55,\n",
       " 'size': 66,\n",
       " 'light': 36,\n",
       " 'linen': 37,\n",
       " 'towel': 73,\n",
       " 'welcom': 81,\n",
       " 'tv': 77,\n",
       " 'share': 62,\n",
       " 'kitchen': 33,\n",
       " 'beauti': 5,\n",
       " 'park': 48,\n",
       " 'public': 54,\n",
       " 'transport': 76,\n",
       " 'pleas': 51,\n",
       " 'larg': 34,\n",
       " 'locat': 39,\n",
       " 'right': 59,\n",
       " 'tram': 75,\n",
       " 'away': 0,\n",
       " 'cafe': 9,\n",
       " 'loung': 40,\n",
       " 'centr': 12,\n",
       " 'beach': 4,\n",
       " 'road': 60,\n",
       " 'heart': 30,\n",
       " 'central': 13,\n",
       " 'balconi': 1,\n",
       " 'quiet': 56,\n",
       " 'view': 79,\n",
       " 'restaur': 58,\n",
       " 'supermarket': 71,\n",
       " 'wifi': 82,\n",
       " 'floor': 25,\n",
       " 'open': 46,\n",
       " 'plan': 50,\n",
       " 'dine': 20,\n",
       " 'full': 26,\n",
       " 'outdoor': 47,\n",
       " 'tabl': 72,\n",
       " 'laundri': 35,\n",
       " 'book': 6,\n",
       " 'comfort': 17,\n",
       " 'relax': 57,\n",
       " 'privat': 53,\n",
       " 'easi': 23,\n",
       " 'door': 22,\n",
       " 'short': 64,\n",
       " 'train': 74,\n",
       " 'close': 15,\n",
       " 'famili': 24,\n",
       " 'spaciou': 68,\n",
       " 'cbd': 11,\n",
       " 'car': 10,\n",
       " 'local': 38,\n",
       " 'peopl': 49,\n",
       " 'garden': 28,\n",
       " 'high': 32,\n",
       " 'conveni': 18,\n",
       " 'pool': 52,\n",
       " 'gym': 29,\n",
       " 'bar': 2,\n",
       " 'victoria': 78,\n",
       " 'station': 69,\n",
       " 'bbq': 3,\n",
       " 'luxuri': 41,\n",
       " 'secur': 61,\n",
       " 'coffe': 16,\n",
       " 'furnish': 27,\n",
       " 'heat': 31,\n",
       " 'busi': 8,\n",
       " 'sofa': 67,\n",
       " 'singl': 65,\n",
       " 'wash': 80,\n",
       " 'machin': 42,\n",
       " 'cook': 19,\n",
       " 'market': 43,\n",
       " 'yarra': 83}"
      ]
     },
     "execution_count": 5,
     "metadata": {},
     "output_type": "execute_result"
    }
   ],
   "source": [
    "vectorizer.vocabulary_"
   ]
  },
  {
   "cell_type": "markdown",
   "metadata": {},
   "source": [
    "### 2.3: Processing of each dataset (individual)"
   ]
  },
  {
   "cell_type": "markdown",
   "metadata": {},
   "source": [
    "#### Imaging Dataset (classification)"
   ]
  },
  {
   "cell_type": "markdown",
   "metadata": {},
   "source": [
    "##### Method 1: Jacob Battipaglia"
   ]
  },
  {
   "cell_type": "code",
   "execution_count": null,
   "metadata": {},
   "outputs": [],
   "source": []
  },
  {
   "cell_type": "markdown",
   "metadata": {},
   "source": [
    "##### Method 2: Abhishek Kondila"
   ]
  },
  {
   "cell_type": "code",
   "execution_count": null,
   "metadata": {},
   "outputs": [],
   "source": []
  },
  {
   "cell_type": "markdown",
   "metadata": {},
   "source": [
    "##### Method 3: Avin Abraham"
   ]
  },
  {
   "cell_type": "code",
   "execution_count": null,
   "metadata": {},
   "outputs": [],
   "source": []
  },
  {
   "cell_type": "markdown",
   "metadata": {},
   "source": [
    "#### Time-Series Dataset (classification)"
   ]
  },
  {
   "cell_type": "markdown",
   "metadata": {},
   "source": [
    "##### Method 1: Jacob Battipaglia"
   ]
  },
  {
   "cell_type": "code",
   "execution_count": null,
   "metadata": {},
   "outputs": [],
   "source": []
  },
  {
   "cell_type": "markdown",
   "metadata": {},
   "source": [
    "##### Method 2: Abhishek Kondila"
   ]
  },
  {
   "cell_type": "code",
   "execution_count": null,
   "metadata": {},
   "outputs": [],
   "source": []
  },
  {
   "cell_type": "markdown",
   "metadata": {},
   "source": [
    "##### Method 3: Avin Abraham"
   ]
  },
  {
   "cell_type": "code",
   "execution_count": null,
   "metadata": {},
   "outputs": [],
   "source": []
  },
  {
   "cell_type": "markdown",
   "metadata": {},
   "source": [
    "#### Text Dataset (clustering)"
   ]
  },
  {
   "cell_type": "markdown",
   "metadata": {},
   "source": [
    "##### Method 1: Jacob Battipaglia"
   ]
  },
  {
   "cell_type": "code",
   "execution_count": null,
   "metadata": {},
   "outputs": [],
   "source": []
  },
  {
   "cell_type": "markdown",
   "metadata": {},
   "source": [
    "##### Method 2: Abhishek Kondila"
   ]
  },
  {
   "cell_type": "code",
   "execution_count": null,
   "metadata": {},
   "outputs": [],
   "source": []
  },
  {
   "cell_type": "markdown",
   "metadata": {},
   "source": [
    "##### Method 3: Avin Abraham"
   ]
  },
  {
   "cell_type": "code",
   "execution_count": 29,
   "metadata": {},
   "outputs": [
    {
     "data": {
      "text/plain": [
       "KMeans(algorithm='auto', copy_x=True, init='k-means++', max_iter=300,\n",
       "       n_clusters=10, n_init=10, n_jobs=None, precompute_distances='auto',\n",
       "       random_state=None, tol=0.0001, verbose=0)"
      ]
     },
     "execution_count": 29,
     "metadata": {},
     "output_type": "execute_result"
    }
   ],
   "source": [
    "km_model = KMeans(n_clusters=10)\n",
    "km_model.fit(tfidf_model)"
   ]
  },
  {
   "cell_type": "code",
   "execution_count": null,
   "metadata": {},
   "outputs": [
    {
     "name": "stdout",
     "output_type": "stream",
     "text": [
      "16036.420427539402\n",
      "[('privat', 1762), ('view', 1554), ('locat', 1431), ('garden', 1293), ('kitchen', 1143), ('space', 1079), ('yarra', 1072), ('park', 1032), ('beauti', 1013), ('comfort', 924), ('share', 784), ('pleas', 771), ('relax', 770), ('modern', 738), ('away', 723), ('close', 697), ('cbd', 668), ('balconi', 632), ('shop', 622), ('luxuri', 620)]\n",
      "\n",
      "\n",
      "[('beach', 2676), ('park', 1387), ('tram', 906), ('locat', 902), ('shop', 900), ('cafe', 814), ('restaur', 800), ('close', 737), ('kitchen', 713), ('away', 612), ('train', 611), ('beauti', 511), ('station', 470), ('space', 466), ('hous', 451), ('larg', 449), ('garden', 436), ('quiet', 435), ('bar', 434), ('privat', 424)]\n",
      "\n",
      "\n",
      "[('transport', 2224), ('public', 2184), ('close', 1692), ('shop', 1387), ('park', 1367), ('locat', 1286), ('restaur', 1012), ('kitchen', 905), ('cafe', 901), ('tram', 849), ('cbd', 766), ('away', 711), ('quiet', 671), ('space', 669), ('privat', 638), ('train', 623), ('comfort', 599), ('hous', 535), ('garden', 524), ('distanc', 498)]\n",
      "\n",
      "\n",
      "[('station', 2387), ('shop', 2386), ('train', 2283), ('bu', 1891), ('centr', 1269), ('park', 1111), ('stop', 1017), ('close', 1011), ('hous', 983), ('locat', 855), ('kitchen', 824), ('restaur', 684), ('distanc', 643), ('tram', 634), ('away', 600), ('cbd', 596), ('quiet', 584), ('privat', 518), ('space', 489), ('cafe', 468)]\n",
      "\n",
      "\n",
      "[('kitchen', 2862), ('larg', 2705), ('open', 2701), ('space', 2277), ('locat', 1694), ('dine', 1532), ('plan', 1530), ('balconi', 1434), ('spaciou', 1359), ('modern', 1327), ('park', 1293), ('comfort', 1235), ('privat', 1176), ('view', 1150), ('floor', 1143), ('light', 1075), ('garden', 988), ('queen', 973), ('loung', 968), ('beauti', 951)]\n",
      "\n",
      "\n",
      "[('hous', 5801), ('kitchen', 1580), ('park', 1167), ('locat', 1122), ('shop', 1026), ('share', 1019), ('close', 988), ('larg', 954), ('space', 933), ('privat', 895), ('train', 889), ('tram', 842), ('garden', 837), ('quiet', 784), ('station', 779), ('beauti', 739), ('away', 676), ('cafe', 672), ('famili', 671), ('restaur', 645)]\n",
      "\n",
      "\n",
      "[('tram', 4699), ('locat', 2822), ('station', 2375), ('restaur', 2210), ('cbd', 2081), ('cafe', 1956), ('shop', 1925), ('train', 1845), ('park', 1833), ('close', 1641), ('stop', 1417), ('away', 1290), ('bar', 1247), ('kitchen', 1175), ('road', 949), ('heart', 877), ('view', 869), ('distanc', 866), ('space', 774), ('right', 773)]\n",
      "\n",
      "\n",
      "[('kitchen', 3177), ('size', 2779), ('queen', 2756), ('locat', 1967), ('wash', 1625), ('wifi', 1617), ('comfort', 1588), ('park', 1471), ('towel', 1457), ('sofa', 1445), ('tabl', 1394), ('dine', 1316), ('machin', 1257), ('furnish', 1254), ('coffe', 1209), ('linen', 1205), ('balconi', 1189), ('view', 1158), ('modern', 1124), ('cbd', 1120)]\n",
      "\n",
      "\n"
     ]
    }
   ],
   "source": [
    "print(km_model.inertia_)\n",
    "clustering = collections.defaultdict(list)\n",
    " \n",
    "for idx, label in enumerate(km_model.labels_):\n",
    "    clustering[label].append(idx)\n",
    "    \n",
    "from collections import Counter\n",
    "total = '';\n",
    "for j in range(0,10):\n",
    "    total = '';\n",
    "    for i in clustering[j]:\n",
    "        total += text_df.description[i]\n",
    "\n",
    "    vocab = clean_text(total)\n",
    "    new_vocab = [];\n",
    "    for word in vocab:\n",
    "        if word in vectorizer.vocabulary_:\n",
    "            new_vocab.append(word);\n",
    "    print(Counter(new_vocab).most_common(20))\n",
    "    print(\"\\n\")"
   ]
  },
  {
   "cell_type": "code",
   "execution_count": 17,
   "metadata": {},
   "outputs": [
    {
     "name": "stdout",
     "output_type": "stream",
     "text": [
      "Group 0:\n",
      "I am Melbourne's longest-running host, and go out of my way to make sure each booking is seamless - I pride myself on value, communication and comfort. Quality linen, beautiful furniture and in an excellent location. This apartment has charm, style and everything you'd need for a fantastic stay, whether it's for business, leisure or a romantic getaway. This cosy little flat has hosted 500+ people from all over the world and absolutely loved it! 100% of proceeds from this Airbnb listing go towards the running of the charity that I founded in 2013. So you can feel like a hero and stay at Melbourne's original Airbnb at the same time! With the CBD just 3km away (either a short tram trip, bike ride or lovely half-hour walk), Richmond is the best place to experience Melbourne. The apartment is surrounded by cafes, restaurant and shopping strips (Bridge Road, Swan Street, Victoria Street), shops, boutiques, bars and pubs. Full of natural light, in a very well-maintained building, the apartmen\n",
      "\n",
      "Victorian terrace near Melbourne CBD, mins walk to Errol St, Queen Vic Market and all Melbourne has to offer; cafes, restaurants, shops, flagstaff gardens, public transport, the list goes on...  A clean & cosy bedroom with ornate fireplace, drawers & BIRs. House features polished floorboards, high ceilings, leading to an open plan living /dining kitchen area, facing rear courtyard. Bathroom with basin, bath, stand up shower and toilet. European style laundry with washing machine. A great place to stay close to amazing cafes, restaurants & the eclectic nightlife. Close to the city; only 5mins by tram to the CBD, minutes walking distance to Queen Victoria market and Errol St shopping precinct. Easy access to the City, Brunswick, Fitzroy & Southbank either by public transport, uber or bicycle ride. We are also close to the beautiful Flagstaff gardens, a major public park, only 10mins stroll for the fitness conscious. ;) Room: medium sized bedroom with two BIRs in a light and airy space ri\n",
      "\n",
      "This modern and superbly located apartment is stylish as well as functional and caters for both the business executive and today's modern family. The furniture, beds, bedding and linen are of the highest quality. We provide free access to Netflix and high speed unlimited internet. The apartment comes with security parking and the building has a security entrance.  It is superbly located right on the Ormond Rd café and shopping strip and short walk to Elwood beach. The people of Elwood have a style of their own, we think. Spend some time in this cosy little corner and let us know if you agree. You will have exclusive access to the apartment. Our reservations and ground teams will be available from 9am until 10pm every day . Elwood is just 8 kilometres form the Melbourne CBD. The nearest trains are at Rippon Lea or Elsternwick stations, both on the Sandringham Line. You can access most areas of Melbourne via this line and its connections. Trams on the 67 tram line reach the city. Also th\n",
      "\n",
      "Group 1:\n",
      "Furnished 2 bedrooms situated  3.5 Km from CBD, and surrounded by parks, shops, cafes and pubs on Bay St. Trams and buses are close by.  Indoor swimming pool, gym, sauna and tennis court in this landmark ,5-start resort building complex which is under 24⁄7 security with a building manager on site. You will share with a professional female host. Prefer long term stay but flexible. 主人可以讲中文｡ This beautiful 2 bedrooms apartment offers a lifestyle of luxury! Located on the Port Melbourne beach your room overlooks the colourful courtyard.  Situated just 3 Km from the CBD, and surrounded by parks, shops, restaurants, cafes and pubs within 2 mins walking distance. It's the perfect place to base yourself while enjoying the best of Melbourne! Take a walk along beach, go fishing, or simply take advantage of the private ,free swimming pool, gym, sauna and tennis court located within the building complex.  It does not get any better than this, to stay in this landmark building and enjoy 5 stars res\n",
      "\n",
      "Spacious 3 bedroom, 2 bathroom apartment in Southbank high rise complex.  Fully equipped with kitchen, laundry and entertainment systems. The building has gym, pool and tennis court. Onsite concierge service and 24 hours check in. Fully serviced 3 bedroom apartment. All bedrooms are furnished with either a king or 2 king single beds. The living room is furnished with couch, coffee table, flat screen tv.  Fully equipped kitchen complete with fridge, dishwasher and all the utensils you need to cook up a feast. Complex Facilites The complex has a heated pool and gym located on the 6th floor (opening hours are 6am to 10pm) and tennis court (day light only).  The building also has its own concierge desk which is attended from 6am to 10pm.  The concierge desk has weather report, direct telephone diallying for taxi and also collects dry cleaning items. Telephone interaction. City Tower Complex is in the heart of Melbourne. Right across from the Crown Casino, 5 minutes walk to Flinder St stati\n",
      "\n",
      "This apartment with a balcony has a true city feeling! It comfortably fits four and is centrally located, just 3 mins walk to Crown Casino and 1 min to Public Transport. Enjoy a Kitchen, gym, swimming pool and easy access to all attractions. Royal Stays Fully Furnished Apartments for short-term rental are pleasingly furnished and provide accommodation for short-term as well as long-term rentals. Our furnished apartment in Melbourne offer luxurious living at affordable pricing. Our location is right in the heart of Melbourne where the dining, bar and cafe scene is literally at your doorsteps. In addition, Melbourne is the sporting capital of Australia and there are always sporting events throughout the calendar year. This is a self-contained 2 Bedroom/1 Bathroom apartment with a private balcony and City views.  The master bedroom includes a queen size bed with built in robes. 2nd bedroom includes a queen size bed with built in robes. This apartment is well-equipped with a full kitchen w\n",
      "\n",
      "Group 2:\n",
      "Comfortable, relaxed house, a home away from  home! This is a shared house, you will be sharing with me, plus the occasional other guest. Rooms are large so you will have plenty of private space. The atmosphere is relaxed and easy going. You can make yourself at home for two days, or longer, or however long you wish to stay. This is a quiet house though we do like to share the occasional conversation or drink, or even a meal if the mood strikes.  Your room has large French doors that open out onto a shaded porch. It has a bed, a wardrobe with mirror, plus a writing table. There are plenty of sheets and towels. It is right near the shared bathroom. You are welcome to make yourself at home in the kitchen as long as you clean up. There is plenty of room in the pantry to store food, as well as in the fridge. Feel free to relax in the lounge room, watch a movie, or TV, or relax in the back yard. Guest's privacy will be respected at all times. If you need information and tips on where to go,\n",
      "\n",
      "Our eco friendly home and family welcome guests to respectfully join our community life and make the most of their stay with us.  The bedroom is large, light and spacious. Tell us what you need and we will do all we can to make it happen. <b>Strawbale Home In Leafy Suburb - </b>  I am happy to share our family home for other travellers visiting Melbourne.   We have a welcoming home with: reclaimed timbers, textured strawbale walls, open plan living, fire place in winter and an outside entertaining area with table tennis and bbq and couches.  The guest bedroom is quiet, private and reflects the natural elements of our eco friendly home construction.  Some people call it a well loved urban barn.  The guest room is large, light and spacious.  It has a double or queen bed with table and 2 chairs, a couch, TV (by request), wardrobe space (by request) and a shared bathroom ensuite.  It has easterly views out to the garden, with great ventilation from french doors and an opposing window that\n",
      "\n",
      "Beautiful Tudor Style Home, 3 living areas ensures private time, Resort Style outdoor living with inground pool, Jacuzzi & undercover BBQ entertaining area. large double bedroom, suit single or couple.  WiFi, close to public transport, beaches, shopping pubs & clubs. Off Street parking available.  Overnight or longer as you need.  3 Gregarious adults, occupy this fantastic home and are happy to bring you up to date with the local area.  Chill out around the pool, relax in the jacuzzi or go to one of the many local places of interest.  The choice is yours.  Beautiful Tudor Style Home, 3 living areas ensures private time, Resort Style outdoor living with inground pool, Jacuzzi & undercover BBQ entertaining area. large double bedroom, suit single or couple.  WiFi, close to public transport, beaches, shopping pubs & clubs. Off Street parking available.  Overnight or longer as you need.  3 Gregarious adults, occupy this fantastic home and are happy to bring you up to date with the local are\n",
      "\n"
     ]
    }
   ],
   "source": [
    "for j in range(0,3):\n",
    "    print(\"Group \" + str(j)+ \":\")\n",
    "    x = clustering[j];\n",
    "    for i in [2,24,63]:\n",
    "        print(text_df.description[x[i]] + \"\\n\")"
   ]
  },
  {
   "cell_type": "markdown",
   "metadata": {},
   "source": [
    "### 2.4: Comparative Analysis (collective)"
   ]
  },
  {
   "cell_type": "markdown",
   "metadata": {},
   "source": []
  }
 ],
 "metadata": {
  "kernelspec": {
   "display_name": "Python 3",
   "language": "python",
   "name": "python3"
  },
  "language_info": {
   "codemirror_mode": {
    "name": "ipython",
    "version": 3
   },
   "file_extension": ".py",
   "mimetype": "text/x-python",
   "name": "python",
   "nbconvert_exporter": "python",
   "pygments_lexer": "ipython3",
   "version": "3.7.3"
  }
 },
 "nbformat": 4,
 "nbformat_minor": 4
}
